{
 "cells": [
  {
   "cell_type": "code",
   "execution_count": null,
   "metadata": {},
   "outputs": [],
   "source": [
    "import seaborn as sns\n",
    "import pandas as pd\n",
    "import matplotlib.pyplot as plt\n",
    "import numpy as np"
   ]
  },
  {
   "cell_type": "code",
   "execution_count": null,
   "metadata": {},
   "outputs": [],
   "source": [
    "df=pd.read_csv('~/results/peak_only_rajiv.csv',sep='\\t') ### adjust file\n",
    "print(df.head())"
   ]
  },
  {
   "cell_type": "code",
   "execution_count": null,
   "metadata": {},
   "outputs": [],
   "source": [
    "df['rt']=df[['rt_min','rt_max']].mean(axis=1)   \n",
    "df.head()"
   ]
  },
  {
   "cell_type": "code",
   "execution_count": null,
   "metadata": {},
   "outputs": [],
   "source": [
    "df['AJ114']=np.log10(df['/Users/vpandey/projects/gitlabs/peakDetection/raw/20200417_QEF1_HILIC_AJ114.mzML'])\n",
    "df['AJ115']=np.log10(df['/Users/vpandey/projects/gitlabs/peakDetection/raw/20200417_QEF1_HILIC_AJ115.mzML'])\n",
    "dfs=df.sort_values(by=['rt'])"
   ]
  },
  {
   "cell_type": "code",
   "execution_count": null,
   "metadata": {},
   "outputs": [],
   "source": [
    "# Scatter plot using Seaborn\n",
    "sns.scatterplot(data=dfs, x='rt', y='AJ114', label='AJ114')\n",
    "sns.scatterplot(data=dfs, x='rt', y='AJ115', label='AJ115')\n",
    "sns.lineplot(data=dfs, x='rt', y='AJ114', label='AJ114')\n",
    "sns.lineplot(data=dfs, x='rt', y='AJ115', label='AJ115')\n",
    "\n",
    "# Set plot labels and title\n",
    "plt.xlabel('RT')\n",
    "plt.ylabel('Intensity')\n",
    "plt.title('Scatter Plot ')\n",
    "\n",
    "# Show legend\n",
    "plt.legend()\n",
    "\n",
    "# Show plot\n",
    "plt.show()"
   ]
  }
 ],
 "metadata": {
  "language_info": {
   "name": "python"
  }
 },
 "nbformat": 4,
 "nbformat_minor": 2
}
